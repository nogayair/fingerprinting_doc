{
 "cells": [
  {
   "cell_type": "code",
   "execution_count": null,
   "metadata": {},
   "outputs": [],
   "source": [
    "import pandas as pd\n",
    "import seaborn as sns\n",
    "import matplotlib.pyplot as plt\n",
    "import numpy as np\n",
    "import sklearn\n",
    "from sklearn.neighbors import KNeighborsClassifier\n",
    "from sklearn.utils import shuffle \n",
    "from sklearn.linear_model import LinearRegression, LogisticRegression, Lasso, LassoCV\n",
    "from sklearn import metrics\n",
    "from sys import platform\n",
    "import scipy as sp\n",
    "import scipy.io\n",
    "from scipy.stats import pearsonr\n",
    "import os\n",
    "from random import randrange\n",
    "from itertools import combinations"
   ]
  },
  {
   "cell_type": "code",
   "execution_count": null,
   "metadata": {},
   "outputs": [],
   "source": [
    "# Phase 1: load individual connectivity matrices, create group similarity matrices, calculate success rate and chance level"
   ]
  },
  {
   "cell_type": "code",
   "execution_count": null,
   "metadata": {},
   "outputs": [],
   "source": [
    "# load individual mats, take lower triangle without diagonal, concatenate all subs together to create group matrices per timepoint\n",
    "def mat2vec(datadir,subs,length):\n",
    "    mats=[x for x in os.listdir(datadir) if x[:length] in subs]\n",
    "    mats.sort()\n",
    "    size_mat=scipy.io.loadmat(datadir + '/' + mats[1])\n",
    "    a=list(size_mat.keys())\n",
    "    size_mat=size_mat[a[3]]\n",
    "    i=0\n",
    "    dim=np.shape(size_mat)\n",
    "    N=len(mats)\n",
    "    bigmat=np.zeros([int((dim[0]*(dim[0]-1))/2),N])\n",
    "    for file in mats:\n",
    "        # print(file)\n",
    "        submat=scipy.io.loadmat(datadir + '/' + file)\n",
    "        b=list(submat.keys())\n",
    "        submat=submat[b[3]]\n",
    "        bigmat[:,i]=submat[np.tril_indices(dim[1], k = -1)]\n",
    "        i+=1\n",
    "    return bigmat"
   ]
  },
  {
   "cell_type": "code",
   "execution_count": null,
   "metadata": {},
   "outputs": [],
   "source": [
    "# create similarity matrices for two timepoints \n",
    "def create_cor_mat2(X,Y):\n",
    "    sub_cor=np.corrcoef(X.T, Y.T)[:np.shape(X)[1], np.shape(X)[1]:]\n",
    "    sub_cor=pd.DataFrame(sub_cor.T)\n",
    "    return sub_cor"
   ]
  },
  {
   "cell_type": "code",
   "execution_count": null,
   "metadata": {},
   "outputs": [],
   "source": [
    "# calculate success: is diagonal value the highest value in the row\n",
    "def calc_success(sub_cor):\n",
    "    counter = 0\n",
    "    for t in range(0,np.shape(sub_cor)[1]):\n",
    "        val = sub_cor.loc[t,t]\n",
    "        max_val=max(sub_cor.loc[:,t])\n",
    "        if max_val==val:\n",
    "            counter+=1\n",
    "    success_rate=counter/(np.shape(sub_cor)[1])\n",
    "    return counter,success_rate"
   ]
  },
  {
   "cell_type": "code",
   "execution_count": null,
   "metadata": {},
   "outputs": [],
   "source": [
    "# Calculate chance rate\n",
    "def perm(sub_cor, K):\n",
    "    perm_success_rate=[]\n",
    "    for i in range(K):\n",
    "        shuffled_cor_mat=sub_cor.sample(frac=1).reset_index(drop=True)\n",
    "        shuffled_counter,shuffled_sucess_rate=calc_success(shuffled_cor_mat)\n",
    "        perm_success_rate.append(shuffled_sucess_rate)\n",
    "    chance_level=np.mean(perm_success_rate)\n",
    "    return chance_level, perm_success_rate"
   ]
  },
  {
   "cell_type": "code",
   "execution_count": null,
   "metadata": {},
   "outputs": [],
   "source": [
    "# Soldiers"
   ]
  },
  {
   "cell_type": "code",
   "execution_count": null,
   "metadata": {},
   "outputs": [],
   "source": [
    "rootdir1=('/Volumes/homes/Noga/full_data/Results/T1')\n",
    "subs1=[x for x in os.listdir(rootdir1) if len(x)==4]\n",
    "rootdir2=('/Volumes/homes/Noga/full_data/Results/T2')\n",
    "subs2=[x for x in os.listdir(rootdir2) if len(x)==4]\n",
    "rootdir3=('/Volumes/homes/Noga/full_data/Results/T3')\n",
    "subs3=[x for x in os.listdir(rootdir3) if len(x)==4]\n",
    "rootdir4=('/Volumes/homes/Noga/full_data/Results/T4')\n",
    "subs4=[x for x in os.listdir(rootdir4) if len(x)==4]\n",
    "subs4=np.intersect1d(subs1,subs4)\n",
    "\n",
    "subs=np.intersect1d(np.intersect1d(np.intersect1d(subs1,subs4),subs2),subs3)\n",
    "atlas='Schaefer1000'"
   ]
  },
  {
   "cell_type": "code",
   "execution_count": null,
   "metadata": {},
   "outputs": [],
   "source": [
    "mat1=mat2vec('/Volumes/homes/Noga/full_data/Results/Atlas_CMs/T1/' + atlas,subs2,4)\n",
    "mat2=mat2vec('/Volumes/homes/Noga/full_data/Results/Atlas_CMs/T2/' + atlas,subs2,4)\n",
    "sub_cor12=create_cor_mat2(mat1,mat2)\n",
    "counter12,success_rate12 = calc_success(sub_cor12)\n",
    "chance_level12, perm_success_rate12=perm(sub_cor12, 1000)\n",
    "print('Number of Participants: %s\\nSucessful Fingerprinting: %s\\nSuccess Rate: %s\\nChance-Level Success rate: %s' % (np.shape(sub_cor12)[1],counter12,success_rate12,chance_level12))"
   ]
  },
  {
   "cell_type": "code",
   "execution_count": null,
   "metadata": {},
   "outputs": [],
   "source": [
    "mat1=mat2vec('/Volumes/homes/Noga/full_data/Results/Atlas_CMs/T1/' + atlas,subs3,4)\n",
    "mat3=mat2vec('/Volumes/homes/Noga/full_data/Results/Atlas_CMs/T3/' + atlas,subs3,4)\n",
    "sub_cor13=create_cor_mat2(mat1,mat3)\n",
    "counter13,success_rate13 = calc_success(sub_cor13)\n",
    "chance_level13, perm_success_rate13=perm(sub_cor13, 1000)\n",
    "print('Number of Participants: %s\\nSucessful Fingerprinting: %s\\nSuccess Rate: %s\\nChance-Level Success rate: %s' % (np.shape(sub_cor13)[1],counter13,success_rate13,chance_level13))"
   ]
  },
  {
   "cell_type": "code",
   "execution_count": null,
   "metadata": {},
   "outputs": [],
   "source": [
    "mat1=mat2vec('/Volumes/homes/Noga/full_data/Results/Atlas_CMs/T1/' + atlas,subs4,4)\n",
    "mat4=mat2vec('/Volumes/homes/Noga/full_data/Results/Atlas_CMs/T4/' + atlas,subs4,4)\n",
    "sub_cor14=create_cor_mat2(mat1,mat4)\n",
    "counter14,success_rate14 = calc_success(sub_cor14)\n",
    "chance_level14, perm_success_rate14=perm(sub_cor14, 1000)\n",
    "print('Number of Participants: %s\\nSucessful Fingerprinting: %s\\nSuccess Rate: %s\\nChance-Level Success rate: %s' % (np.shape(sub_cor14)[1],counter14,success_rate14,chance_level14))"
   ]
  },
  {
   "cell_type": "code",
   "execution_count": null,
   "metadata": {},
   "outputs": [],
   "source": [
    "# Controls"
   ]
  },
  {
   "cell_type": "code",
   "execution_count": null,
   "metadata": {},
   "outputs": [],
   "source": [
    "rootdir1_con=('/Volumes/homes/Noga/full_data/Results/Control/T1')\n",
    "subs1_con=[x for x in os.listdir(rootdir1_con) if len(x)==3]\n",
    "rootdir2_con=('/Volumes/homes/Noga/full_data/Results/Control/T2')\n",
    "subs2_con=[x for x in os.listdir(rootdir2_con) if len(x)==3] #and x!='133']\n",
    "rootdir3_con=('/Volumes/homes/Noga/full_data/Results/Control/T3')\n",
    "subs3_con=[x for x in os.listdir(rootdir3_con) if len(x)==3]\n",
    "rootdir4_con=('/Volumes/homes/Noga/full_data/Results/Control/T4')\n",
    "subs4_con=[x for x in os.listdir(rootdir4_con) if len(x)==3]\n",
    "\n",
    "subs_con=np.intersect1d(np.intersect1d(subs1_con,subs2_con),subs3_con)\n",
    "len(subs_con)"
   ]
  },
  {
   "cell_type": "code",
   "execution_count": null,
   "metadata": {},
   "outputs": [],
   "source": [
    "mat1_con=mat2vec('/Volumes/homes/Noga/full_data/Results/Atlas_CMs/Control/T1/' + atlas,subs_con,3)\n",
    "mat2_con=mat2vec('/Volumes/homes/Noga/full_data/Results/Atlas_CMs/Control/T2/' + atlas,subs_con,3)\n",
    "sub_cor12_con=create_cor_mat2(mat1_con,mat2_con)\n",
    "counter12_con,success_rate12_con = calc_success(sub_cor12_con)\n",
    "chance_level12_con, perm_success_rate12_con=perm(sub_cor12_con, 1000)\n",
    "print('Number of Participants: %s\\nSucessful Fingerprinting: %s\\nSuccess Rate: %s\\nChance-Level Success rate: %s' % (np.shape(sub_cor12_con)[1],counter12_con,success_rate12_con,chance_level12_con))"
   ]
  },
  {
   "cell_type": "code",
   "execution_count": null,
   "metadata": {},
   "outputs": [],
   "source": [
    "mat1_con=mat2vec('/Volumes/homes/Noga/full_data/Results/Atlas_CMs/Control/T1/' + atlas,subs_con,3)\n",
    "mat3_con=mat2vec('/Volumes/homes/Noga/full_data/Results/Atlas_CMs/Control/T3/' + atlas,subs_con,3)\n",
    "sub_cor13_con=create_cor_mat2(mat1_con,mat3_con)\n",
    "counter13_con,success_rate13_con = calc_success(sub_cor13_con)\n",
    "chance_level13_con, perm_success_rate13_con=perm(sub_cor13_con, 1000)\n",
    "print('Number of Participants: %s\\nSucessful Fingerprinting: %s\\nSuccess Rate: %s\\nChance-Level Success rate: %s' % (np.shape(sub_cor13_con)[1],counter13_con,success_rate13_con,chance_level13_con))"
   ]
  },
  {
   "cell_type": "code",
   "execution_count": null,
   "metadata": {},
   "outputs": [],
   "source": [
    "# Phase 2: Network Feature Importance (AKA network contribution score)"
   ]
  },
  {
   "cell_type": "code",
   "execution_count": null,
   "metadata": {},
   "outputs": [],
   "source": [
    "parcel_id=pd.read_excel('/Volumes/homes/Noga/Atlases/schaefer_parcellation/map1000to100.xlsx')\n",
    "parcel_id\n",
    "atlas='Schaefer1000'\n",
    "networks=np.unique(parcel_id['Network'])"
   ]
  },
  {
   "cell_type": "code",
   "execution_count": null,
   "metadata": {},
   "outputs": [],
   "source": [
    "def mat2vec_drop_multiple_networks(datadir,subs,length,networks):\n",
    "    mats=[x for x in os.listdir(datadir) if x[:length] in subs]\n",
    "    mats.sort()\n",
    "    N=len(mats)\n",
    "    bigmat=pd.DataFrame()\n",
    "\n",
    "    network_index = parcel_id['Parcel_ID'].loc[parcel_id['Network'].isin(networks)]\n",
    "    network_index=network_index-1\n",
    "    for i, file in enumerate(mats):\n",
    "        submat=scipy.io.loadmat(datadir + '/' + file)\n",
    "        b=list(submat.keys())\n",
    "        submat=submat[b[3]]\n",
    "        submat=pd.DataFrame(submat)\n",
    "        filtered_submat = submat.drop(network_index, axis=0)\n",
    "        filtered_submat = filtered_submat.drop(network_index, axis=1)    \n",
    "        dim=np.shape(filtered_submat)\n",
    "        filtered_submat=np.array(filtered_submat)\n",
    "        bigmat.loc[:,i]=filtered_submat[np.tril_indices(dim[1], k = -1)]\n",
    "\n",
    "    bigmat=np.array(bigmat)\n",
    "    return bigmat"
   ]
  },
  {
   "cell_type": "code",
   "execution_count": null,
   "metadata": {},
   "outputs": [],
   "source": [
    "# Create a dictionary to store the success rates for each network for each iteration\n",
    "network_iteration_success_without = {network: [] for network in networks}\n",
    "network_iteration_success_with = {network: [] for network in networks}\n",
    "\n",
    "# Iterate over all combinations of the networks\n",
    "for r in range(1, len(networks)):\n",
    "    for combo in combinations(networks, r):\n",
    "        # Generate matrices and calculate success rates for the current combination\n",
    "        mat1 = mat2vec_drop_multiple_networks('/Volumes/homes/Noga/full_data/Results/Atlas_CMs/T1/' + atlas, subs, 4, combo)\n",
    "        mat2 = mat2vec_drop_multiple_networks ('/Volumes/homes/Noga/full_data/Results/Atlas_CMs/T2/' + atlas, subs, 4, combo)\n",
    "        sub_cor = create_cor_mat2(mat1, mat2)\n",
    "        counter, success_rate = calc_success(sub_cor)\n",
    "        \n",
    "       # Update network_iteration_success dictionary based on the current combination\n",
    "        for network in networks:\n",
    "            if network not in combo:\n",
    "                network_iteration_success_without[network].append(success_rate)\n",
    "\n",
    "        for network in networks:\n",
    "            if network in combo:\n",
    "                network_iteration_success_with[network].append(success_rate)\n",
    "\n",
    "\n",
    "average_success_rates_without = {}\n",
    "for network, success_rates in network_iteration_success_without.items():\n",
    "    average_success_rates_without[network] = sum(success_rates) / len(success_rates)\n",
    "\n",
    "average_success_rates_with = {}\n",
    "for network, success_rates in network_iteration_success_with.items():\n",
    "    average_success_rates_with[network] = sum(success_rates) / len(success_rates)\n",
    "\n",
    "# Now average_success_rates dictionary contains the average success rate for each network\n",
    "print(average_success_rates_without)\n",
    "print(average_success_rates_with)\n"
   ]
  },
  {
   "cell_type": "code",
   "execution_count": null,
   "metadata": {},
   "outputs": [],
   "source": [
    "# Create a dictionary to store the success rates for each network for each iteration\n",
    "network_iteration_success_without = {network: [] for network in networks}\n",
    "network_iteration_success_with = {network: [] for network in networks}\n",
    "\n",
    "# Iterate over all combinations of the networks\n",
    "for r in range(1, len(networks)):\n",
    "    for combo in combinations(networks, r):\n",
    "        # Generate matrices and calculate success rates for the current combination\n",
    "        mat1 = mat2vec_drop_multiple_networks('/Volumes/homes/Noga/full_data/Results/Atlas_CMs/T1/' + atlas, subs, 4, combo)\n",
    "        mat2 = mat2vec_drop_multiple_networks ('/Volumes/homes/Noga/full_data/Results/Atlas_CMs/T3/' + atlas, subs, 4, combo)\n",
    "        sub_cor = create_cor_mat2(mat1, mat2)\n",
    "        counter, success_rate = calc_success(sub_cor)\n",
    "        \n",
    "        # Update network_iteration_success dictionary based on the current combination\n",
    "        for network in networks:\n",
    "            if network not in combo:\n",
    "                network_iteration_success_without[network].append(success_rate)\n",
    "\n",
    "        for network in networks:\n",
    "            if network in combo:\n",
    "                network_iteration_success_with[network].append(success_rate)\n",
    "\n",
    "\n",
    "average_success_rates_without = {}\n",
    "for network, success_rates in network_iteration_success_without.items():\n",
    "    average_success_rates_without[network] = sum(success_rates) / len(success_rates)\n",
    "\n",
    "average_success_rates_with = {}\n",
    "for network, success_rates in network_iteration_success_with.items():\n",
    "    average_success_rates_with[network] = sum(success_rates) / len(success_rates)\n",
    "\n",
    "# Now average_success_rates dictionary contains the average success rate for each network\n",
    "print(average_success_rates_without)\n",
    "print(average_success_rates_with)\n"
   ]
  },
  {
   "cell_type": "code",
   "execution_count": null,
   "metadata": {},
   "outputs": [],
   "source": [
    "# Create a dictionary to store the success rates for each network for each iteration\n",
    "network_iteration_success_without = {network: [] for network in networks}\n",
    "network_iteration_success_with = {network: [] for network in networks}\n",
    "\n",
    "# Iterate over all combinations of the networks\n",
    "for r in range(1, len(networks)):\n",
    "    for combo in combinations(networks, r):\n",
    "        # Generate matrices and calculate success rates for the current combination\n",
    "        mat1 = mat2vec_drop_multiple_networks('/Volumes/homes/Noga/full_data/Results/Atlas_CMs/T1/' + atlas, subs, 4, combo)\n",
    "        mat2 = mat2vec_drop_multiple_networks ('/Volumes/homes/Noga/full_data/Results/Atlas_CMs/T4/' + atlas, subs, 4, combo)\n",
    "        sub_cor = create_cor_mat(mat1, mat2)\n",
    "        counter, success_rate = calc_success(sub_cor)\n",
    "        \n",
    "        # Update network_iteration_success dictionary based on the current combination\n",
    "        for network in networks:\n",
    "            if network not in combo:\n",
    "                network_iteration_success_without[network].append(success_rate)\n",
    "\n",
    "        for network in networks:\n",
    "            if network in combo:\n",
    "                network_iteration_success_with[network].append(success_rate)\n",
    "\n",
    "\n",
    "average_success_rates_without = {}\n",
    "for network, success_rates in network_iteration_success_without.items():\n",
    "    average_success_rates_without[network] = sum(success_rates) / len(success_rates)\n",
    "\n",
    "average_success_rates_with = {}\n",
    "for network, success_rates in network_iteration_success_with.items():\n",
    "    average_success_rates_with[network] = sum(success_rates) / len(success_rates)\n",
    "\n",
    "# Now average_success_rates dictionary contains the average success rate for each network\n",
    "print(average_success_rates_without)\n",
    "print(average_success_rates_with)\n"
   ]
  },
  {
   "cell_type": "code",
   "execution_count": null,
   "metadata": {},
   "outputs": [],
   "source": [
    "# Controls\n",
    "rootdir1=('/Volumes/homes/Noga/full_data/Results/Control/T1/')\n",
    "subs1=[x for x in os.listdir(rootdir1) if len(x)==3]\n",
    "rootdir2=('/Volumes/homes/Noga/full_data/Results/Control/T2')\n",
    "subs2=[x for x in os.listdir(rootdir2) if len(x)==3]\n",
    "rootdir3=('/Volumes/homes/Noga/full_data/Results/Control/T3')\n",
    "subs3=[x for x in os.listdir(rootdir3) if len(x)==3]\n",
    "\n",
    "subs=np.intersect1d(np.intersect1d(subs1,subs2),subs3)"
   ]
  },
  {
   "cell_type": "code",
   "execution_count": null,
   "metadata": {},
   "outputs": [],
   "source": [
    "# Create a dictionary to store the success rates for each network for each iteration\n",
    "network_iteration_success_without = {network: [] for network in networks}\n",
    "network_iteration_success_with = {network: [] for network in networks}\n",
    "\n",
    "# Iterate over all combinations of the networks\n",
    "for r in range(1, len(networks)):\n",
    "    for combo in combinations(networks, r):\n",
    "        # Generate matrices and calculate success rates for the current combination\n",
    "        mat1 = mat2vec_drop_multiple_networks('/Volumes/homes/Noga/full_data/Results/Atlas_CMs/Control/T1/' + atlas, subs, 3, combo)\n",
    "        mat2 = mat2vec_drop_multiple_networks ('/Volumes/homes/Noga/full_data/Results/Atlas_CMs/Control/T2/' + atlas, subs, 3, combo)\n",
    "        sub_cor = create_cor_mat2(mat1, mat2)\n",
    "        counter, success_rate = calc_success(sub_cor)\n",
    "        \n",
    "        # Update network_iteration_success dictionary based on the current combination\n",
    "        for network in networks:\n",
    "            if network not in combo:\n",
    "                network_iteration_success_without[network].append(success_rate)\n",
    "\n",
    "        for network in networks:\n",
    "            if network in combo:\n",
    "                network_iteration_success_with[network].append(success_rate)\n",
    "\n",
    "\n",
    "average_success_rates_without = {}\n",
    "for network, success_rates in network_iteration_success_without.items():\n",
    "    average_success_rates_without[network] = sum(success_rates) / len(success_rates)\n",
    "\n",
    "average_success_rates_with = {}\n",
    "for network, success_rates in network_iteration_success_with.items():\n",
    "    average_success_rates_with[network] = sum(success_rates) / len(success_rates)\n",
    "\n",
    "# Now average_success_rates dictionary contains the average success rate for each network\n",
    "print(average_success_rates_without)\n",
    "print(average_success_rates_with)\n"
   ]
  },
  {
   "cell_type": "code",
   "execution_count": null,
   "metadata": {},
   "outputs": [],
   "source": [
    "# Create a dictionary to store the success rates for each network for each iteration\n",
    "network_iteration_success_without = {network: [] for network in networks}\n",
    "network_iteration_success_with = {network: [] for network in networks}\n",
    "\n",
    "# Iterate over all combinations of the networks\n",
    "for r in range(1, len(networks)):\n",
    "    for combo in combinations(networks, r):\n",
    "        # Generate matrices and calculate success rates for the current combination\n",
    "        mat1 = mat2vec_drop_multiple_networks('/Volumes/homes/Noga/full_data/Results/Atlas_CMs/Control/T1/' + atlas, subs, 3, combo)\n",
    "        mat2 = mat2vec_drop_multiple_networks ('/Volumes/homes/Noga/full_data/Results/Atlas_CMs/Control/T3/' + atlas, subs, 3, combo)\n",
    "        sub_cor = create_cor_mat2(mat1, mat2)\n",
    "        counter, success_rate = calc_success(sub_cor)\n",
    "        \n",
    "        # Update network_iteration_success dictionary based on the current combination\n",
    "        for network in networks:\n",
    "            if network not in combo:\n",
    "                network_iteration_success_without[network].append(success_rate)\n",
    "\n",
    "        for network in networks:\n",
    "            if network in combo:\n",
    "                network_iteration_success_with[network].append(success_rate)\n",
    "\n",
    "\n",
    "average_success_rates_without = {}\n",
    "for network, success_rates in network_iteration_success_without.items():\n",
    "    average_success_rates_without[network] = sum(success_rates) / len(success_rates)\n",
    "\n",
    "average_success_rates_with = {}\n",
    "for network, success_rates in network_iteration_success_with.items():\n",
    "    average_success_rates_with[network] = sum(success_rates) / len(success_rates)\n",
    "\n",
    "# Now average_success_rates dictionary contains the average success rate for each network\n",
    "print(average_success_rates_without)\n",
    "print(average_success_rates_with)\n"
   ]
  },
  {
   "cell_type": "code",
   "execution_count": null,
   "metadata": {},
   "outputs": [],
   "source": [
    "# Phase 3: Permutation Test to explore group differences within timepoint"
   ]
  },
  {
   "cell_type": "code",
   "execution_count": null,
   "metadata": {},
   "outputs": [],
   "source": [
    "# 1. shuffle between groups, create null distribution of success rate differences\n",
    "# how to execute: \n",
    "# a. shuffle mat1-mat2 and mat1_con-mat2_con (shuffle couples)\n",
    "# b. calc success and store in df\n",
    "# c. create distrubution of success difference\n",
    "\n",
    "def shuffle_matrices(s1,s2,c1,c2,K):\n",
    "    perm_success_rate_diff=[]\n",
    "    t1=pd.concat([s1,c1],axis=1)\n",
    "    t2=pd.concat([s2,c2],axis=1)\n",
    "    vector = [1] * np.shape(s1)[1] + [0] * np.shape(c1)[1]\n",
    "\n",
    "    for _ in range(K):\n",
    "        random.shuffle(vector)\n",
    "        ind_s = [idx for idx, val in enumerate(vector) if val == 1]\n",
    "        ind_c = [idx for idx, val in enumerate(vector) if val == 0]\n",
    "\n",
    "        s1=t1.iloc[:,ind_s].reset_index(drop=True)\n",
    "        s2=t2.iloc[:,ind_s].reset_index(drop=True)\n",
    "\n",
    "        c1=t1.iloc[:,ind_c].reset_index(drop=True)\n",
    "        c2=t2.iloc[:,ind_c].reset_index(drop=True)\n",
    "\n",
    "        s_cor=create_cor_mat2(np.array(s1),np.array(s2))\n",
    "        _,success_rate_s = calc_success(s_cor)\n",
    "\n",
    "        c_cor=create_cor_mat2(np.array(c1),np.array(c2))\n",
    "        _,success_rate_c = calc_success(c_cor)\n",
    "        perm_success_rate_diff.append(success_rate_s-success_rate_c)\n",
    "    return perm_success_rate_diff"
   ]
  },
  {
   "cell_type": "code",
   "execution_count": null,
   "metadata": {},
   "outputs": [],
   "source": [
    "mat1=pd.DataFrame(mat2vec('/Volumes/homes/Noga/full_data/Results/Atlas_CMs/T1/Schaefer1000',subs2,4))\n",
    "mat2=pd.DataFrame(mat2vec('/Volumes/homes/Noga/full_data/Results/Atlas_CMs/T2/Schaefer1000',subs2,4))\n",
    "mat1_con=pd.DataFrame(mat2vec('/Volumes/homes/Noga/full_data/Results/Atlas_CMs/Control/T1/Schaefer1000',subs2_con,3))\n",
    "mat2_con=pd.DataFrame(mat2vec('/Volumes/homes/Noga/full_data/Results/Atlas_CMs/Control/T2/Schaefer1000',subs2_con,3))\n",
    "\n",
    "perm_success_rate_diff_12 = shuffle_matrices(mat1,mat2,mat1_con,mat2_con,1000)"
   ]
  },
  {
   "cell_type": "code",
   "execution_count": null,
   "metadata": {},
   "outputs": [],
   "source": [
    "a=np.array(perm_success_rate_diff_12)\n",
    "b=success_rate12-success_rate12_con\n",
    "c=np.append(a,b)\n",
    "print(len(c[c<=b])/len(c))\n",
    "plt.hist(c,bins=10)"
   ]
  },
  {
   "cell_type": "code",
   "execution_count": null,
   "metadata": {},
   "outputs": [],
   "source": [
    "mat1=pd.DataFrame(mat2vec('/Volumes/homes/Noga/full_data/Results/Atlas_CMs/T1/Schaefer1000',subs3,4))\n",
    "mat3=pd.DataFrame(mat2vec('/Volumes/homes/Noga/full_data/Results/Atlas_CMs/T3/Schaefer1000',subs3,4))\n",
    "mat1_con=pd.DataFrame(mat2vec('/Volumes/homes/Noga/full_data/Results/Atlas_CMs/Control/T1/Schaefer1000',subs3_con,3))\n",
    "mat3_con=pd.DataFrame(mat2vec('/Volumes/homes/Noga/full_data/Results/Atlas_CMs/Control/T3/Schaefer1000',subs3_con,3))\n",
    "\n",
    "perm_success_rate_diff_13 = shuffle_matrices(mat1,mat3,mat1_con,mat3_con,1000)"
   ]
  },
  {
   "cell_type": "code",
   "execution_count": null,
   "metadata": {},
   "outputs": [],
   "source": [
    "a=np.array(perm_success_rate_diff_13)\n",
    "b=success_rate13-success_rate13_con\n",
    "c=np.append(a,b)\n",
    "print(len(c[c<=b])/len(c))\n",
    "plt.hist(c,bins=10)"
   ]
  },
  {
   "cell_type": "code",
   "execution_count": null,
   "metadata": {},
   "outputs": [],
   "source": [
    "# Phase 4: Calculate Stability, Uniqueness and Discriminitability"
   ]
  },
  {
   "cell_type": "code",
   "execution_count": null,
   "metadata": {},
   "outputs": [],
   "source": [
    "def idiff(z_mat):\n",
    "    idiff=[]\n",
    "    iself_mat=[]\n",
    "    iothers_mat=[]\n",
    "    for i in range(np.shape(z_mat)[1]):\n",
    "        n=np.shape(z_mat)[1]\n",
    "        iself=z_mat.loc[i,i]\n",
    "        row=z_mat.loc[i,:]\n",
    "        row=row.drop(i).reset_index(drop=True)\n",
    "        col=z_mat.loc[:,i]\n",
    "        col=col.drop(i).reset_index(drop=True)\n",
    "        iothers=1-((1/(2*(n-1)))*sum(row+col))\n",
    "        iothers_for_disc_calc=((1/(2*(n-1)))*sum(row+col))\n",
    "        idiff.append(iself/iothers_for_disc_calc)\n",
    "        iself_mat.append(iself)\n",
    "        iothers_mat.append(iothers)\n",
    "    return idiff, iothers_mat, iself_mat"
   ]
  },
  {
   "cell_type": "code",
   "execution_count": null,
   "metadata": {},
   "outputs": [],
   "source": [
    "idiff12, iothers12, iself12 =idiff(sub_cor12)\n",
    "idiff13, iothers13, iself13=idiff(sub_cor13)\n",
    "idiff14, iothers14, iself14=idiff(sub_cor14)\n",
    "idiff12_con, iothers12_con, iself12_con =idiff(sub_cor12_con)\n",
    "idiff13_con, iothers13_con, iself13_con=idiff(sub_cor13_con)"
   ]
  },
  {
   "cell_type": "code",
   "execution_count": null,
   "metadata": {},
   "outputs": [],
   "source": [
    "t12_df=pd.DataFrame(columns=['id','Group','time','discriminability','iothers','iself'])\n",
    "n=np.shape(sub_cor12)[1]\n",
    "ids=[int(i) for i in subs2]\n",
    "ids.sort()\n",
    "t12_df.id=ids\n",
    "t12_df.Group='Soldiers'\n",
    "t12_df.time='Time-points 1&2'\n",
    "t12_df.discriminability=idiff12\n",
    "t12_df.iothers=iothers12\n",
    "t12_df.iself=iself12\n",
    "\n",
    "t13_df=pd.DataFrame(columns=['id','Group','time','discriminability','iothers','iself'])\n",
    "n=np.shape(sub_cor13)[1]\n",
    "ids=[int(i) for i in subs3]\n",
    "ids.sort()\n",
    "t13_df.id=ids\n",
    "t13_df.Group='Soldiers'\n",
    "t13_df.time='Time-points 1&3'\n",
    "t13_df.discriminability=idiff13\n",
    "t13_df.iothers=iothers13\n",
    "t13_df.iself=iself13\n",
    "\n",
    "t14_df=pd.DataFrame(columns=['id','Group','time','discriminability','iothers','iself'])\n",
    "n=np.shape(sub_cor14)[1]\n",
    "ids=[int(i) for i in subs4]\n",
    "ids.sort()\n",
    "t14_df.id=ids\n",
    "t14_df.Group='Soldiers'\n",
    "t14_df.time='Time-points 1&4'\n",
    "t14_df.discriminability=idiff14\n",
    "t14_df.iothers=iothers14\n",
    "t14_df.iself=iself14"
   ]
  },
  {
   "cell_type": "code",
   "execution_count": null,
   "metadata": {},
   "outputs": [],
   "source": [
    "t12_df_con=pd.DataFrame(columns=['id','Group','time','discriminability','iothers','iself'])\n",
    "n=np.shape(sub_cor12_con)[1]\n",
    "ids=[int(i) for i in subs2_con]\n",
    "ids.sort()\n",
    "t12_df_con.id=ids\n",
    "t12_df_con.Group='Students'\n",
    "t12_df_con.time='Time-points 1&2'\n",
    "t12_df_con.discriminability=idiff12_con\n",
    "t12_df_con.iothers=iothers12_con\n",
    "t12_df_con.iself=iself12_con\n",
    "\n",
    "t13_df_con=pd.DataFrame(columns=['id','Group','time','discriminability','iothers','iself'])\n",
    "n=np.shape(sub_cor13_con)[1]\n",
    "ids=[int(i) for i in subs3_con]\n",
    "ids.sort()\n",
    "t13_df_con.id=ids\n",
    "t13_df_con.Group='Students'\n",
    "t13_df_con.time='Time-points 1&3'\n",
    "t13_df_con.discriminability=idiff13_con\n",
    "t13_df_con.iothers=iothers13_con\n",
    "t13_df_con.iself=iself13_con"
   ]
  },
  {
   "cell_type": "code",
   "execution_count": null,
   "metadata": {},
   "outputs": [],
   "source": []
  }
 ],
 "metadata": {
  "language_info": {
   "name": "python"
  }
 },
 "nbformat": 4,
 "nbformat_minor": 2
}
